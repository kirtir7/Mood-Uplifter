{
 "cells": [
  {
   "cell_type": "code",
   "execution_count": 1,
   "metadata": {},
   "outputs": [],
   "source": [
    "#Importing necessary modules.\n",
    "import json\n",
    "import pandas as pd\n",
    "import time\n",
    "import numpy as np\n",
    "import itertools\n",
    "import matplotlib.pyplot as plt \n",
    "from sklearn.metrics import confusion_matrix\n",
    "from sklearn.feature_extraction.text import CountVectorizer\n",
    "from sklearn import metrics\n",
    "#from sklearn.metrics import roc_auc_score"
   ]
  },
  {
   "cell_type": "code",
   "execution_count": 2,
   "metadata": {},
   "outputs": [],
   "source": [
    "tweets_data = []\n",
    "x = []\n",
    "y = []\n",
    "vectorizer = CountVectorizer(stop_words='english')"
   ]
  },
  {
   "cell_type": "code",
   "execution_count": 3,
   "metadata": {},
   "outputs": [],
   "source": [
    "def retrieveTweet(data_url):\n",
    "\n",
    "    tweets_data_path = data_url\n",
    "    tweets_file = open(tweets_data_path, \"r\")\n",
    "    for line in tweets_file:\n",
    "        try:\n",
    "            tweet = json.loads(line)\n",
    "            tweets_data.append(tweet)\n",
    "        except:\n",
    "            continue"
   ]
  },
  {
   "cell_type": "code",
   "execution_count": 4,
   "metadata": {},
   "outputs": [],
   "source": [
    "def retrieveProcessedData(Pdata_url):\n",
    "    sent = pd.read_excel(Pdata_url)\n",
    "    for i in range(len(tweets_data)):\n",
    "        if tweets_data[i]['id']==sent['id'][i]:\n",
    "            x.append(tweets_data[i]['text'])\n",
    "            y.append(sent['sentiment'][i])"
   ]
  },
  {
   "cell_type": "code",
   "execution_count": 5,
   "metadata": {},
   "outputs": [],
   "source": [
    "def plot_confusion_matrix(cm, classes,\n",
    "                          normalize=False,\n",
    "                          title='Confusion matrix',\n",
    "                          cmap=plt.cm.Blues):\n",
    "    plt.imshow(cm, interpolation='nearest', cmap=cmap)\n",
    "    plt.title(title)\n",
    "    plt.colorbar()\n",
    "    tick_marks = np.arange(len(classes))\n",
    "    plt.xticks(tick_marks, classes, rotation=45)\n",
    "    plt.yticks(tick_marks, classes)\n",
    "\n",
    "    fmt = '.2f' if normalize else 'd'\n",
    "    thresh = cm.max() / 2.\n",
    "    for i, j in itertools.product(range(cm.shape[0]), range(cm.shape[1])):\n",
    "        plt.text(j, i, format(cm[i, j], fmt),\n",
    "                 horizontalalignment=\"center\",\n",
    "                 color=\"white\" if cm[i, j] > thresh else \"black\")\n",
    "\n",
    "    plt.tight_layout()\n",
    "    plt.ylabel('True label')\n",
    "    plt.xlabel('Predicted label')         "
   ]
  },
  {
   "cell_type": "code",
   "execution_count": 6,
   "metadata": {},
   "outputs": [],
   "source": [
    "def nbTrain():\n",
    "    from sklearn.naive_bayes import MultinomialNB\n",
    "    start_timenb = time.time()\n",
    "    train_features = vectorizer.fit_transform(x)\n",
    "    \n",
    "    actual = y\n",
    "    \n",
    "    nb = MultinomialNB()\n",
    "    nb.fit(train_features, [int(r) for r in y])\n",
    "    \n",
    "    test_features = vectorizer.transform(x)\n",
    "    predictions = nb.predict(test_features)\n",
    "    fpr, tpr, thresholds = metrics.roc_curve(actual, predictions, pos_label=1)\n",
    "    nbscore = format(metrics.auc(fpr, tpr))\n",
    "    nbscore = float(nbscore)*100\n",
    "    \n",
    "#    nb_matrix = confusion_matrix(actual, predictions)\n",
    "#    plt.figure()\n",
    "#    plot_confusion_matrix(nb_matrix, classes=[-1,0,1], title='Confusion matrix For NB classifier')\n",
    "    \n",
    "    print(\"\\n\")\n",
    "\n",
    "    print(\"Naive Bayes  Accuracy : \\n\", nbscore,\"%\")\n",
    "    print(\" Completion Speed\", round((time.time() - start_timenb),5))\n",
    "    print()"
   ]
  },
  {
   "cell_type": "code",
   "execution_count": 7,
   "metadata": {},
   "outputs": [],
   "source": [
    "def datree():\n",
    "    from sklearn import tree\n",
    "    start_timedt = time.time()\n",
    "    train_featurestree = vectorizer.fit_transform(x)\n",
    "    actual1 = y\n",
    "    test_features1 = vectorizer.transform(x)\n",
    "    dtree = tree.DecisionTreeClassifier()\n",
    "    \n",
    "    dtree = dtree.fit(train_featurestree, [int(r) for r in y])\n",
    "    \n",
    "    prediction1 = dtree.predict(test_features1)\n",
    "    ddd, ttt, thresholds = metrics.roc_curve(actual1, prediction1, pos_label=1)\n",
    "    dtreescore = format(metrics.auc(ddd, ttt))\n",
    "    dtreescore = float(dtreescore)*100\n",
    "    print(\"Decision tree Accuracy : \\n\", dtreescore, \"%\")\n",
    "    print(\" Completion Speed\", round((time.time() - start_timedt),5))\n",
    "    print()"
   ]
  },
  {
   "cell_type": "code",
   "execution_count": 8,
   "metadata": {},
   "outputs": [],
   "source": [
    "def Tsvm():\n",
    "    from sklearn.svm import SVC\n",
    "    start_timesvm = time.time()\n",
    "    train_featuressvm = vectorizer.fit_transform(x)\n",
    "    actual2 = y\n",
    "    test_features2 = vectorizer.transform(x)\n",
    "    svc = SVC()\n",
    "    \n",
    "    svc = svc.fit(train_featuressvm, [int(r) for r in y])\n",
    "    prediction2 = svc.predict(test_features2)\n",
    "    sss, vvv, thresholds = metrics.roc_curve(actual2, prediction2, pos_label=1)\n",
    "    svc = format(metrics.auc(sss, vvv))\n",
    "    svc = float(svc)*100\n",
    "    print(\"Support vector machine Accuracy : \\n\", svc, \"%\")\n",
    "    print(\" Completion Speed\", round((time.time() - start_timesvm),5))\n",
    "    print()"
   ]
  },
  {
   "cell_type": "code",
   "execution_count": 9,
   "metadata": {},
   "outputs": [],
   "source": [
    "def knN():\n",
    "    from sklearn.neighbors import KNeighborsClassifier\n",
    "    start_timekn = time.time()\n",
    "    train_featureskn = vectorizer.fit_transform(x)\n",
    "    actual3 = y\n",
    "    test_features3 = vectorizer.transform(x)\n",
    "    kn = KNeighborsClassifier(n_neighbors=2)\n",
    "    \n",
    "    \n",
    "    kn = kn.fit(train_featureskn, [int(i) for i in y])\n",
    "    prediction3 = kn.predict(test_features3)\n",
    "    kkk, nnn, thresholds = metrics.roc_curve(actual3, prediction3, pos_label=1)\n",
    "    kn = format(metrics.auc(kkk, nnn))\n",
    "    kn = float(kn)*100\n",
    "    \n",
    "    print(\"Kneighborsclassifier Accuracy : \\n\", kn, \"%\")\n",
    "    print(\" Completion Speed\", round((time.time() - start_timekn),5))\n",
    "    print()"
   ]
  },
  {
   "cell_type": "code",
   "execution_count": 10,
   "metadata": {},
   "outputs": [],
   "source": [
    "def RanFo():\n",
    "    from sklearn.ensemble import RandomForestClassifier\n",
    "    start_timerf = time.time()\n",
    "    train_featuresrf = vectorizer.fit_transform(x)\n",
    "    actual4 = y\n",
    "    test_features4 = vectorizer.transform(x)\n",
    "    rf = RandomForestClassifier(max_depth=2, random_state=0)\n",
    "    \n",
    "    \n",
    "    rf = rf.fit(train_featuresrf, [int(i) for i in y])\n",
    "    prediction4 = rf.predict(test_features4)\n",
    "    rrr, fff, thresholds = metrics.roc_curve(actual4, prediction4, pos_label=1)\n",
    "    kn = format(metrics.auc(rrr, fff))\n",
    "    kn = float(kn)*100\n",
    "    print(\"Random Forest Accuracy : \\n\", kn, \"%\")\n",
    "    print(\" Completion Speed\", round((time.time() - start_timerf),5))\n",
    "    print()\n",
    "    print()"
   ]
  },
  {
   "cell_type": "code",
   "execution_count": 11,
   "metadata": {},
   "outputs": [],
   "source": [
    "def runall():     \n",
    "    retrieveTweet('tweetdata.txt')  \n",
    "    retrieveProcessedData('output.xlsx')\n",
    "#    nbTrain()\n",
    "#    datree()\n",
    "#    Tsvm()\n",
    "#    knN()\n",
    "#    RanFo()"
   ]
  },
  {
   "cell_type": "code",
   "execution_count": 12,
   "metadata": {},
   "outputs": [],
   "source": [
    "def datreeINPUT(inputtweet):\n",
    "    from sklearn import tree\n",
    "    train_featurestree = vectorizer.fit_transform(x)\n",
    "    dtree = tree.DecisionTreeClassifier()\n",
    "    \n",
    "    dtree = dtree.fit(train_featurestree, [int(r) for r in y])\n",
    "    \n",
    "    \n",
    "    inputdtree= vectorizer.transform([inputtweet])\n",
    "    predictt = dtree.predict(inputdtree)\n",
    "    \n",
    "    if predictt == 1:\n",
    "        predictt = \"Positive\"\n",
    "        print('Hey, You seem to be in a glee. Why not have your favourite meal? :)')\n",
    "    elif predictt == 0:\n",
    "        predictt = \"Neutral\"\n",
    "    elif predictt == -1:\n",
    "        predictt = \"Negative\"\n",
    "        print('Hey, bud! You alright? Try having a decaf and take a deep breath. It will be alright. :)')\n",
    "    else:\n",
    "        print(\"Nothing\")\n",
    "    \n",
    "    print(\"\\n*****************\")\n",
    "    print(predictt)\n",
    "    print(\"*****************\")\n",
    "\n",
    "runall()"
   ]
  },
  {
   "cell_type": "code",
   "execution_count": 15,
   "metadata": {
    "scrolled": true
   },
   "outputs": [
    {
     "name": "stdout",
     "output_type": "stream",
     "text": [
      "\n",
      "Input your tweet : \n",
      "I am feeling good\n",
      "Hey, You seem to be in a glee. Why not have your favourite meal? :)\n",
      "\n",
      "*****************\n",
      "Positive\n",
      "*****************\n"
     ]
    }
   ],
   "source": [
    "print(\"\\nInput your tweet : \")\n",
    "inputtweet = input()\n",
    "\n",
    "datreeINPUT(inputtweet)\n"
   ]
  },
  {
   "cell_type": "code",
   "execution_count": null,
   "metadata": {},
   "outputs": [],
   "source": []
  }
 ],
 "metadata": {
  "kernelspec": {
   "display_name": "Python 3",
   "language": "python",
   "name": "python3"
  },
  "language_info": {
   "codemirror_mode": {
    "name": "ipython",
    "version": 3
   },
   "file_extension": ".py",
   "mimetype": "text/x-python",
   "name": "python",
   "nbconvert_exporter": "python",
   "pygments_lexer": "ipython3",
   "version": "3.8.5"
  }
 },
 "nbformat": 4,
 "nbformat_minor": 4
}
